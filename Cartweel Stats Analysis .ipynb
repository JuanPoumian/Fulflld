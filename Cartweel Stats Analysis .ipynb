{
 "cells": [
  {
   "cell_type": "code",
   "execution_count": 20,
   "id": "e42e9476",
   "metadata": {},
   "outputs": [],
   "source": [
    "# Import the necessary libraries\n",
    "import pandas as pd\n",
    "import numpy as np"
   ]
  },
  {
   "cell_type": "code",
   "execution_count": 21,
   "id": "3da2727d",
   "metadata": {},
   "outputs": [],
   "source": [
    "# Loading 'cartwheelProyect.xlsx' Excel file using pandas and assigning it to 'cartwheel' dataframe\n",
    "cartwheel = pd.read_excel('CartwheelProyect.xlsx')"
   ]
  },
  {
   "cell_type": "code",
   "execution_count": 22,
   "id": "efecd4a0",
   "metadata": {},
   "outputs": [],
   "source": [
    "# Convert date columns from object to datetime datatype\n",
    "date_columns = ['Order Created', 'Actual Drop off Time', \n",
    "                'Actual Pick up Time', 'Finish Date']\n",
    "for col in date_columns:\n",
    "    cartwheel[col] = pd.to_datetime(cartwheel[col], errors='coerce')"
   ]
  },
  {
   "cell_type": "code",
   "execution_count": 23,
   "id": "427d968e",
   "metadata": {},
   "outputs": [],
   "source": [
    "# Drop rows with missing values in these columns\n",
    "cartwheel.dropna(subset=['Order Created', 'Finish Date', \n",
    "                         'Actual Drop off Time', 'Actual Pick up Time'], \n",
    "                inplace=True)"
   ]
  },
  {
   "cell_type": "code",
   "execution_count": 24,
   "id": "d0f0ab29",
   "metadata": {},
   "outputs": [],
   "source": [
    "# Calculate delivery time metric\n",
    "cartwheel['Delivery Time'] = (cartwheel['Actual Drop off Time'] - \n",
    "                              cartwheel['Order Created']).dt.total_seconds() / 3600"
   ]
  },
  {
   "cell_type": "code",
   "execution_count": 25,
   "id": "4490b5d2",
   "metadata": {},
   "outputs": [],
   "source": [
    "# Calculate time between pick-up and drop-off\n",
    "cartwheel['Pick up to Drop off Time'] = (cartwheel['Actual Drop off Time'] - \n",
    "                                         cartwheel['Actual Pick up Time']).dt.total_seconds() / 3600\n"
   ]
  },
  {
   "cell_type": "code",
   "execution_count": 26,
   "id": "53661325",
   "metadata": {},
   "outputs": [],
   "source": [
    "# NOTE: 'Subtotal' column has too many missing values, so I will not include it in my analysis for integrity of the analysis."
   ]
  },
  {
   "cell_type": "code",
   "execution_count": 46,
   "id": "f5c99191",
   "metadata": {},
   "outputs": [],
   "source": [
    "# Convert 'Tip' column to numeric, coerce errors to NaN\n",
    "cartwheel['Tip'] = pd.to_numeric(cartwheel['Tip'], errors='coerce')\n",
    "\n",
    "# Fill missing values in 'Tip' with 0 assuming no tip was given for these entries\n",
    "cartwheel['Tip'].fillna(0, inplace=True)"
   ]
  },
  {
   "cell_type": "code",
   "execution_count": 28,
   "id": "1634441d",
   "metadata": {},
   "outputs": [],
   "source": [
    "# NOTE: 'Total Revenue' calculation will be skipped because 'Subtotal' is not available for the big amount of missing values."
   ]
  },
  {
   "cell_type": "code",
   "execution_count": 29,
   "id": "3611e333",
   "metadata": {},
   "outputs": [],
   "source": [
    "# Create a new column for total delivery time\n",
    "cartwheel['Delivery Time'] = cartwheel['Finish Date'] - cartwheel['Order Created']"
   ]
  },
  {
   "cell_type": "code",
   "execution_count": 30,
   "id": "8f5bf7e5",
   "metadata": {},
   "outputs": [],
   "source": [
    "# Drop rows where 'Driver' is missing\n",
    "cartwheel.dropna(subset=['Driver'], inplace=True)"
   ]
  },
  {
   "cell_type": "code",
   "execution_count": 31,
   "id": "8793780c",
   "metadata": {},
   "outputs": [
    {
     "name": "stdout",
     "output_type": "stream",
     "text": [
      "Driver\n",
      "A B. [12130850]               2 days 08:56:30\n",
      "AARON E. [21541484]           0 days 19:15:00\n",
      "ADAM R. [21629178]            0 days 06:16:00\n",
      "ADAN B. [17961455]            0 days 19:35:00\n",
      "ALAN S. [21629525]            0 days 19:52:00\n",
      "                                    ...      \n",
      "nestor B. [17617988]          2 days 23:23:00\n",
      "qui p. [21190159]             0 days 17:50:00\n",
      "takaiszah s. [21010343]       1 days 02:32:00\n",
      "Ã_x0081_lvaro R. [18307141]   0 days 23:30:00\n",
      "Óscar R. [14465576]           0 days 22:25:00\n",
      "Name: Delivery Time, Length: 1675, dtype: timedelta64[ns]\n"
     ]
    }
   ],
   "source": [
    "# Analysis of driver efficiency\n",
    "driver_efficiency = cartwheel.groupby('Driver')['Delivery Time'].mean()\n",
    "print(driver_efficiency)"
   ]
  },
  {
   "cell_type": "code",
   "execution_count": 32,
   "id": "d1bb5252",
   "metadata": {},
   "outputs": [
    {
     "name": "stdout",
     "output_type": "stream",
     "text": [
      "Hour of Day\n",
      "0      9.813750\n",
      "1     31.495000\n",
      "2      3.454545\n",
      "3      9.583333\n",
      "4      9.155938\n",
      "5     17.418148\n",
      "6     21.038814\n",
      "7     18.696538\n",
      "8     23.671603\n",
      "9     24.579609\n",
      "10    22.785506\n",
      "11    19.806967\n",
      "12    12.636435\n",
      "13    14.714734\n",
      "14    15.694150\n",
      "15    17.484733\n",
      "16    14.297076\n",
      "17    17.971767\n",
      "18    22.619403\n",
      "19    18.914661\n",
      "20    17.151250\n",
      "21    12.041531\n",
      "22    18.268750\n",
      "23    16.463043\n",
      "Name: Tip, dtype: float64\n"
     ]
    }
   ],
   "source": [
    "# Analysis of tip trends\n",
    "cartwheel['Hour of Day'] = cartwheel['Order Created'].dt.hour\n",
    "tip_trends = cartwheel.groupby('Hour of Day')['Tip'].mean()\n",
    "print(tip_trends)"
   ]
  },
  {
   "cell_type": "code",
   "execution_count": 33,
   "id": "19b2cf33",
   "metadata": {},
   "outputs": [],
   "source": [
    "# NOTE: 'Restaurant Delay' column has too many missing values, so I will not include it in my analysis."
   ]
  },
  {
   "cell_type": "code",
   "execution_count": 34,
   "id": "43ddc6fc",
   "metadata": {},
   "outputs": [
    {
     "name": "stdout",
     "output_type": "stream",
     "text": [
      "Order Created\n",
      "2022-06     630\n",
      "2022-07     700\n",
      "2022-08     872\n",
      "2022-09     932\n",
      "2022-10    1011\n",
      "2022-11     787\n",
      "2022-12    1680\n",
      "2023-01    1108\n",
      "2023-02     419\n",
      "2023-03     485\n",
      "2023-04     738\n",
      "2023-05     979\n",
      "2023-06       1\n",
      "Freq: M, Name: Order Number, dtype: int64\n"
     ]
    }
   ],
   "source": [
    "# Temporal trends analysis\n",
    "order_trends = cartwheel.groupby(cartwheel['Order Created'].dt.to_period(\"M\"))['Order Number'].count()\n",
    "print(order_trends)"
   ]
  },
  {
   "cell_type": "code",
   "execution_count": 48,
   "id": "7983efdc",
   "metadata": {},
   "outputs": [],
   "source": [
    "# Ensure 'Hour of Day' is a valid hour\n",
    "cartwheel = cartwheel.dropna(subset=['Hour of Day'])\n",
    "cartwheel = cartwheel[cartwheel['Hour of Day'].between(0, 23)]  # assuming 'Hour of Day' is an integer representing the hour\n",
    "\n",
    "# Select the 'Hour of Day' and 'Tip' columns and export to Excel\n",
    "cartwheel[['Hour of Day', 'Tip']].to_excel('hourly_tips.xlsx', index=False)"
   ]
  },
  {
   "cell_type": "code",
   "execution_count": 37,
   "id": "7b76f528",
   "metadata": {},
   "outputs": [],
   "source": [
    "# Select the relevant columns to build the Dashboard\n",
    "columns_for_dashboard = ['Order Number', 'Order Status', 'Order Created', 'Finish Date', 'Actual Pick up Time', 'Actual Drop off Time', \n",
    "                         'Driver', 'Tip', 'Courier Charge', 'Delivery Time', 'Pick up to Drop off Time', 'Cancelled or Returned', 'Hour of Day']\n",
    "\n",
    "dashboard_data = cartwheel[columns_for_dashboard]\n",
    "\n",
    "# Save to Excel\n",
    "dashboard_data.to_excel('DashboardData.xlsx', index=False)"
   ]
  },
  {
   "cell_type": "code",
   "execution_count": 38,
   "id": "9bb50d2f",
   "metadata": {},
   "outputs": [
    {
     "name": "stdout",
     "output_type": "stream",
     "text": [
      "           Date  Number of Orders\n",
      "0    2022-06-14                 1\n",
      "1    2022-06-15                28\n",
      "2    2022-06-16                61\n",
      "3    2022-06-17                20\n",
      "4    2022-06-18                 4\n",
      "..          ...               ...\n",
      "323  2023-05-28                 2\n",
      "324  2023-05-29                37\n",
      "325  2023-05-30                41\n",
      "326  2023-05-31                41\n",
      "327  2023-06-01                 1\n",
      "\n",
      "[328 rows x 2 columns]\n",
      "    Hour of Day  Number of Orders\n",
      "0             0                 8\n",
      "1             1                 4\n",
      "2             2                11\n",
      "3             3                48\n",
      "4             4                64\n",
      "5             5                81\n",
      "6             6                59\n",
      "7             7               104\n",
      "8             8               343\n",
      "9             9               640\n",
      "10           10               494\n",
      "11           11               821\n",
      "12           12              1585\n",
      "13           13              1821\n",
      "14           14              1217\n",
      "15           15              1088\n",
      "16           16               766\n",
      "17           17               481\n",
      "18           18               268\n",
      "19           19               118\n",
      "20           20               176\n",
      "21           21                98\n",
      "22           22                24\n",
      "23           23                23\n"
     ]
    }
   ],
   "source": [
    "# Number of orders per day\n",
    "orders_per_day = cartwheel.groupby(cartwheel['Order Created'].dt.date)['Order Number'].count()\n",
    "orders_per_day = orders_per_day.reset_index()\n",
    "orders_per_day.columns = ['Date', 'Number of Orders']\n",
    "orders_per_day.to_excel('orders_per_day.xlsx', index=False)\n",
    "print(orders_per_day)\n",
    "orders_per_day.to_excel('orders_per_day.xlsx', index=False)\n",
    "\n",
    "# Number of orders per hour\n",
    "orders_per_hour = cartwheel.groupby(cartwheel['Hour of Day'])['Order Number'].count()\n",
    "orders_per_hour = orders_per_hour.reset_index()\n",
    "orders_per_hour.columns = ['Hour of Day', 'Number of Orders']\n",
    "orders_per_hour.to_excel('orders_per_hour.xlsx', index=False)\n",
    "print(orders_per_hour)\n",
    "orders_per_hour.to_excel('orders_per_hour.xlsx', index=False)"
   ]
  },
  {
   "cell_type": "code",
   "execution_count": 45,
   "id": "a67860f2",
   "metadata": {},
   "outputs": [],
   "source": [
    "# Delivery time by driver for export to Tableau.\n",
    "# Export data to Excel without averaging\n",
    "cartwheel[['Driver', 'Delivery Time']].to_excel('cartwheel_driver_data_driver_time.xlsx', index=False)\n"
   ]
  },
  {
   "cell_type": "code",
   "execution_count": 40,
   "id": "83679ba1",
   "metadata": {},
   "outputs": [],
   "source": [
    "# Number of cancellations and returns by reason\n",
    "cancellations_returns = cartwheel[cartwheel['Order Status'].isin(['Cancelled', 'Returned'])]\n",
    "cancellations_returns_by_reason = cancellations_returns.groupby('Return Reason')['Order Number'].count()\n",
    "cancellations_returns_by_reason = cancellations_returns_by_reason.reset_index()\n",
    "cancellations_returns_by_reason.columns = ['Return Reason', 'Number of Orders']\n",
    "cancellations_returns_by_reason.to_excel('cancellations_returns_by_reason.xlsx', index=False)"
   ]
  },
  {
   "cell_type": "code",
   "execution_count": 42,
   "id": "f0c4e5ce",
   "metadata": {},
   "outputs": [],
   "source": [
    "# Average tip by hour of day for export to Tableau.\n",
    "# Export data to Excel without averaging\n",
    "cartwheel[['Hour of Day', 'Tip']].to_excel('cartwheel_data_tip_hour.xlsx', index=False)"
   ]
  }
 ],
 "metadata": {
  "kernelspec": {
   "display_name": "Python 3 (ipykernel)",
   "language": "python",
   "name": "python3"
  },
  "language_info": {
   "codemirror_mode": {
    "name": "ipython",
    "version": 3
   },
   "file_extension": ".py",
   "mimetype": "text/x-python",
   "name": "python",
   "nbconvert_exporter": "python",
   "pygments_lexer": "ipython3",
   "version": "3.9.12"
  }
 },
 "nbformat": 4,
 "nbformat_minor": 5
}
