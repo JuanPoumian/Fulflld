{
 "cells": [
  {
   "cell_type": "code",
   "execution_count": 20,
   "id": "e42e9476",
   "metadata": {},
   "outputs": [],
   "source": [
    "# Import the necessary libraries\n",
    "import pandas as pd\n",
    "import numpy as np"
   ]
  },
  {
   "cell_type": "code",
   "execution_count": 21,
   "id": "3da2727d",
   "metadata": {},
   "outputs": [],
   "source": [
    "# Loading 'cartwheelProyect.xlsx' Excel file using pandas and assigning it to 'cartwheel' dataframe\n",
    "cartwheel = pd.read_excel('CartwheelProyect.xlsx')"
   ]
  },
  {
   "cell_type": "code",
   "execution_count": 22,
   "id": "efecd4a0",
   "metadata": {},
   "outputs": [],
   "source": [
    "# Convert date columns from object to datetime datatype\n",
    "date_columns = ['Order Created', 'Actual Drop off Time', \n",
    "                'Actual Pick up Time', 'Finish Date']\n",
    "for col in date_columns:\n",
    "    cartwheel[col] = pd.to_datetime(cartwheel[col], errors='coerce')"
   ]
  },
  {
   "cell_type": "code",
   "execution_count": 23,
   "id": "427d968e",
   "metadata": {},
   "outputs": [],
   "source": [
    "# Drop rows with missing values in these columns\n",
    "cartwheel.dropna(subset=['Order Created', 'Finish Date', \n",
    "                         'Actual Drop off Time', 'Actual Pick up Time'], \n",
    "                inplace=True)"
   ]
  },
  {
   "cell_type": "code",
   "execution_count": 24,
   "id": "d0f0ab29",
   "metadata": {},
   "outputs": [],
   "source": [
    "# Calculate delivery time metric\n",
    "cartwheel['Delivery Time'] = (cartwheel['Actual Drop off Time'] - \n",
    "                              cartwheel['Order Created']).dt.total_seconds() / 3600"
   ]
  },
  {
   "cell_type": "code",
   "execution_count": 25,
   "id": "4490b5d2",
   "metadata": {},
   "outputs": [],
   "source": [
    "# Calculate time between pick-up and drop-off\n",
    "cartwheel['Pick up to Drop off Time'] = (cartwheel['Actual Drop off Time'] - \n",
    "                                         cartwheel['Actual Pick up Time']).dt.total_seconds() / 3600\n"
   ]
  },
  {
   "cell_type": "code",
   "execution_count": 26,
   "id": "53661325",
   "metadata": {},
   "outputs": [],
   "source": [
    "# NOTE: 'Subtotal' column has too many missing values, so I will not include it in my analysis for integrity of the analysis."
   ]
  },
  {
   "cell_type": "code",
   "execution_count": 46,
   "id": "f5c99191",
   "metadata": {},
   "outputs": [],
   "source": [
    "# Convert 'Tip' column to numeric, coerce errors to NaN\n",
    "cartwheel['Tip'] = pd.to_numeric(cartwheel['Tip'], errors='coerce')\n",
    "\n",
    "# Fill missing values in 'Tip' with 0 assuming no tip was given for these entries\n",
    "cartwheel['Tip'].fillna(0, inplace=True)"
   ]
  },
  {
   "cell_type": "code",
   "execution_count": 28,
   "id": "1634441d",
   "metadata": {},
   "outputs": [],
   "source": [
    "# NOTE: 'Total Revenue' calculation will be skipped because 'Subtotal' is not available for the big amount of missing values."
   ]
  },
  {
   "cell_type": "code",
   "execution_count": 29,
   "id": "3611e333",
   "metadata": {},
   "outputs": [],
   "source": [
    "# Create a new column for total delivery time\n",
    "cartwheel['Delivery Time'] = cartwheel['Finish Date'] - cartwheel['Order Created']"
   ]
  },
  {
   "cell_type": "code",
   "execution_count": 30,
   "id": "8f5bf7e5",
   "metadata": {},
   "outputs": [],
   "source": [
    "# Drop rows where 'Driver' is missing\n",
    "cartwheel.dropna(subset=['Driver'], inplace=True)"
   ]
  },
  {
   "cell_type": "code",
   "execution_count": 49,
   "id": "8793780c",
   "metadata": {},
   "outputs": [],
   "source": [
    "# Analysis of driver efficiency\n",
    "driver_efficiency = cartwheel.groupby('Driver')['Delivery Time'].mean()\n",
    "# print(driver_efficiency)"
   ]
  },
  {
   "cell_type": "code",
   "execution_count": 50,
   "id": "d1bb5252",
   "metadata": {},
   "outputs": [],
   "source": [
    "# Analysis of tip trends\n",
    "cartwheel['Hour of Day'] = cartwheel['Order Created'].dt.hour\n",
    "tip_trends = cartwheel.groupby('Hour of Day')['Tip'].mean()\n",
    "# print(tip_trends)"
   ]
  },
  {
   "cell_type": "code",
   "execution_count": 33,
   "id": "19b2cf33",
   "metadata": {},
   "outputs": [],
   "source": [
    "# NOTE: 'Restaurant Delay' column has too many missing values, so I will not include it in my analysis."
   ]
  },
  {
   "cell_type": "code",
   "execution_count": 51,
   "id": "43ddc6fc",
   "metadata": {},
   "outputs": [],
   "source": [
    "# Temporal trends analysis\n",
    "order_trends = cartwheel.groupby(cartwheel['Order Created'].dt.to_period(\"M\"))['Order Number'].count()\n",
    "# print(order_trends)"
   ]
  },
  {
   "cell_type": "code",
   "execution_count": 52,
   "id": "7983efdc",
   "metadata": {},
   "outputs": [],
   "source": [
    "# Ensure 'Hour of Day' is a valid hour\n",
    "cartwheel = cartwheel.dropna(subset=['Hour of Day'])\n",
    "cartwheel = cartwheel[cartwheel['Hour of Day'].between(0, 23)]  # assuming 'Hour of Day' is an integer representing the hour\n",
    "\n",
    "# Select the 'Hour of Day' and 'Tip' columns and export to Excel\n",
    "cartwheel[['Hour of Day', 'Tip']].to_excel('hourly_tips.xlsx', index=False)"
   ]
  },
  {
   "cell_type": "code",
   "execution_count": 37,
   "id": "7b76f528",
   "metadata": {},
   "outputs": [],
   "source": [
    "# Select the relevant columns to build the Dashboard\n",
    "columns_for_dashboard = ['Order Number', 'Order Status', 'Order Created', 'Finish Date', 'Actual Pick up Time', 'Actual Drop off Time', \n",
    "                         'Driver', 'Tip', 'Courier Charge', 'Delivery Time', 'Pick up to Drop off Time', 'Cancelled or Returned', 'Hour of Day']\n",
    "\n",
    "dashboard_data = cartwheel[columns_for_dashboard]\n",
    "\n",
    "# Save to Excel\n",
    "dashboard_data.to_excel('DashboardData.xlsx', index=False)"
   ]
  },
  {
   "cell_type": "code",
   "execution_count": 54,
   "id": "9bb50d2f",
   "metadata": {},
   "outputs": [],
   "source": [
    "# Number of orders per day\n",
    "orders_per_day = cartwheel.groupby(cartwheel['Order Created'].dt.date)['Order Number'].count()\n",
    "orders_per_day = orders_per_day.reset_index()\n",
    "orders_per_day.columns = ['Date', 'Number of Orders']\n",
    "orders_per_day.to_excel('orders_per_day.xlsx', index=False)\n",
    "# print(orders_per_day)\n",
    "orders_per_day.to_excel('orders_per_day.xlsx', index=False)\n",
    "\n",
    "# Number of orders per hour\n",
    "orders_per_hour = cartwheel.groupby(cartwheel['Hour of Day'])['Order Number'].count()\n",
    "orders_per_hour = orders_per_hour.reset_index()\n",
    "orders_per_hour.columns = ['Hour of Day', 'Number of Orders']\n",
    "orders_per_hour.to_excel('orders_per_hour.xlsx', index=False)\n",
    "# print(orders_per_hour)\n",
    "orders_per_hour.to_excel('orders_per_hour.xlsx', index=False)"
   ]
  },
  {
   "cell_type": "code",
   "execution_count": 45,
   "id": "a9ad6618",
   "metadata": {},
   "outputs": [],
   "source": [
    "# Delivery time by driver for export to Tableau.\n",
    "# Export data to Excel without averaging\n",
    "cartwheel[['Driver', 'Delivery Time']].to_excel('cartwheel_driver_data_driver_time.xlsx', index=False)\n"
   ]
  },
  {
   "cell_type": "code",
   "execution_count": 40,
   "id": "83679ba1",
   "metadata": {},
   "outputs": [],
   "source": [
    "# Number of cancellations and returns by reason\n",
    "cancellations_returns = cartwheel[cartwheel['Order Status'].isin(['Cancelled', 'Returned'])]\n",
    "cancellations_returns_by_reason = cancellations_returns.groupby('Return Reason')['Order Number'].count()\n",
    "cancellations_returns_by_reason = cancellations_returns_by_reason.reset_index()\n",
    "cancellations_returns_by_reason.columns = ['Return Reason', 'Number of Orders']\n",
    "cancellations_returns_by_reason.to_excel('cancellations_returns_by_reason.xlsx', index=False)"
   ]
  },
  {
   "cell_type": "code",
   "execution_count": 42,
   "id": "413b1bab",
   "metadata": {},
   "outputs": [],
   "source": [
    "# Average tip by hour of day for export to Tableau.\n",
    "# Export data to Excel without averaging\n",
    "cartwheel[['Hour of Day', 'Tip']].to_excel('cartwheel_data_tip_hour.xlsx', index=False)"
   ]
  }
 ],
 "metadata": {
  "kernelspec": {
   "display_name": "Python 3 (ipykernel)",
   "language": "python",
   "name": "python3"
  },
  "language_info": {
   "codemirror_mode": {
    "name": "ipython",
    "version": 3
   },
   "file_extension": ".py",
   "mimetype": "text/x-python",
   "name": "python",
   "nbconvert_exporter": "python",
   "pygments_lexer": "ipython3",
   "version": "3.9.12"
  }
 },
 "nbformat": 4,
 "nbformat_minor": 5
}
